{
 "cells": [
  {
   "cell_type": "markdown",
   "id": "4be1d3f2",
   "metadata": {},
   "source": [
    " Para poner texto escribe M y para volver a Pyhton es a Y"
   ]
  },
  {
   "cell_type": "markdown",
   "id": "4085549b",
   "metadata": {},
   "source": [
    "# tarea 1\n",
    "## presentacion \n",
    "\n",
    "Me llamo **Juan Pablo Dominguez** y estudio *ingenieria financiera*\n",
    "\n",
    "Me gusta hacer ejercicio desde péqueño y mis deportes favoritois son:\n",
    "1. Soccer\n",
    "2. Bicicleta\n",
    "3. GYM\n",
    "4. correr\n",
    "\n",
    "Las materia que mas me gustan son las de calculo.\n",
    "- multivariable.\n",
    "- Ecuaciones D.\n",
    "- Integral.\n",
    "\n",
    "Me gusta mucho el mercado e capitales y actualmente estoy trabajando en una financiera. \n",
    "su definicion tecnica es: \n",
    "\n",
    "\"El mercado de capitales es aquel al que acuden los agentes del mercado tanto para financiarse a medio y largo plazo (superior a 18 meses) como para realizar inversiones. Al negociarse activos a más largo plazo que en el mercado monetario, incorpora un mayor riesgo.\"\n",
    "\n",
    "Ucha, A. P. (2022, 24 noviembre). Mercado de capitales. Economipedia. https://economipedia.com/definiciones/mercado-de-capitales.html\n",
    "\n",
    "La formula de BlackSholes es la que me interersa entender.\n",
    "\n",
    "![](https://economipedia.com/wp-content/uploads/F%C3%B3rmula-Black-Scholes-2-1.jpg)\n",
    "\n",
    "Otra ecuacion que me gustra es:\n",
    "$$ e^{i\\pi} +1 = 0 $$\n",
    "\n",
    "\n",
    "\n"
   ]
  },
  {
   "cell_type": "code",
   "execution_count": null,
   "id": "bc56aae0",
   "metadata": {},
   "outputs": [],
   "source": [
    "\n"
   ]
  },
  {
   "cell_type": "code",
   "execution_count": null,
   "id": "43fc0f9c",
   "metadata": {},
   "outputs": [],
   "source": [
    "\n",
    "\n"
   ]
  },
  {
   "cell_type": "code",
   "execution_count": null,
   "id": "4177ca63",
   "metadata": {},
   "outputs": [],
   "source": []
  },
  {
   "cell_type": "code",
   "execution_count": null,
   "id": "ef9d7962",
   "metadata": {},
   "outputs": [],
   "source": []
  }
 ],
 "metadata": {
  "kernelspec": {
   "display_name": "Python 3 (ipykernel)",
   "language": "python",
   "name": "python3"
  },
  "language_info": {
   "codemirror_mode": {
    "name": "ipython",
    "version": 3
   },
   "file_extension": ".py",
   "mimetype": "text/x-python",
   "name": "python",
   "nbconvert_exporter": "python",
   "pygments_lexer": "ipython3",
   "version": "3.9.12"
  }
 },
 "nbformat": 4,
 "nbformat_minor": 5
}
